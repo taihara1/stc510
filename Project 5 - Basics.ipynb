{
 "cells": [
  {
   "cell_type": "markdown",
   "id": "870882bd",
   "metadata": {},
   "source": [
    "**Project 5 Basic:** Tiffany Aihara\n",
    "\n",
    "**Directions:** Parse, clean, and organize the Jeopardy! question data file to train a Naive Bayesian classifier.\n",
    "\n",
    "**Goal:** \"Just as we have built a classifier above, your aim here is to make sense of the data presented and create a binary classifier (\"high value\" and \"low value,\" based on the points available for each) for questions."
   ]
  },
  {
   "cell_type": "markdown",
   "id": "af1870c5",
   "metadata": {},
   "source": [
    "**Helpful:** https://www.simplilearn.com/tutorials/machine-learning-tutorial/naive-bayes-classifier?source=sl_frs_nav_playlist_video_clicked"
   ]
  },
  {
   "cell_type": "markdown",
   "id": "f10eb246",
   "metadata": {},
   "source": [
    "**Part 1: Collecting & Cleaning Data** To open the file, I imported json in order to read it. The file holds a list of individual dictionaries (for each question) with the keys of show number, air date, answer, question, value, and round. For this classifier, I decided to drop the show number, air date, answer, and question as the goal is to look at the point values."
   ]
  },
  {
   "cell_type": "code",
   "execution_count": 1,
   "id": "d952511b",
   "metadata": {},
   "outputs": [],
   "source": [
    "import pandas as pd \n",
    "import json\n",
    "from string import punctuation \n",
    "import re\n",
    "\n",
    "from sklearn.feature_extraction.text import CountVectorizer\n",
    "from sklearn.feature_extraction.text import TfidfVectorizer\n",
    "from sklearn.model_selection import train_test_split\n",
    "from sklearn.naive_bayes import MultinomialNB \n",
    "from sklearn.metrics import accuracy_score "
   ]
  },
  {
   "cell_type": "code",
   "execution_count": 2,
   "id": "113c0e74",
   "metadata": {},
   "outputs": [],
   "source": [
    "filepath = '/Users/tiffanyaihara/Desktop/jeopardy.json'\n",
    "file = open(filepath)\n",
    "data = json.load(file)"
   ]
  },
  {
   "cell_type": "code",
   "execution_count": 3,
   "id": "101b3a7a",
   "metadata": {},
   "outputs": [],
   "source": [
    "df = pd.DataFrame(data)\n",
    "#filtered = df.drop(columns = ['show_number', 'air_date', 'answer', 'question'])"
   ]
  },
  {
   "cell_type": "code",
   "execution_count": 4,
   "id": "d2e5cdf2",
   "metadata": {},
   "outputs": [],
   "source": [
    "def remove_punctuation(word): \n",
    "    #Removes punctuation & returns just the word \n",
    "    word = word.lower() \n",
    "    new_word = re.sub('[^A-Za-z0-9\\s]', '', word)\n",
    "    return new_word\n",
    "\n",
    "def edit_str(word): \n",
    "    #Remove the value ($) puncts \n",
    "    new_word = word[1:]\n",
    "    if punctuation[11] in new_word: \n",
    "        new_word = new_word.replace(punctuation[11], ' ')\n",
    "        new = word[1:].strip(' ')\n",
    "    else: \n",
    "        new_word = new_word\n",
    "    return new_word"
   ]
  },
  {
   "cell_type": "code",
   "execution_count": 5,
   "id": "bb93683b",
   "metadata": {},
   "outputs": [],
   "source": [
    "df['clean_category'] = df['category'].apply(remove_punctuation)\n",
    "df['clean_round'] = df['round'].apply(remove_punctuation)"
   ]
  },
  {
   "cell_type": "code",
   "execution_count": 6,
   "id": "eccc540a",
   "metadata": {},
   "outputs": [
    {
     "name": "stderr",
     "output_type": "stream",
     "text": [
      "/var/folders/qx/zf3k788s7gsc_29f3sn5ycxr0000gn/T/ipykernel_1134/1985749132.py:2: SettingWithCopyWarning: \n",
      "A value is trying to be set on a copy of a slice from a DataFrame.\n",
      "Try using .loc[row_indexer,col_indexer] = value instead\n",
      "\n",
      "See the caveats in the documentation: https://pandas.pydata.org/pandas-docs/stable/user_guide/indexing.html#returning-a-view-versus-a-copy\n",
      "  newdata['clean_value'] = newdata['value'].apply(edit_str)\n"
     ]
    }
   ],
   "source": [
    "newdata = df.dropna(axis = 0, how ='any')\n",
    "newdata['clean_value'] = newdata['value'].apply(edit_str)"
   ]
  },
  {
   "cell_type": "code",
   "execution_count": 12,
   "id": "ec133771",
   "metadata": {},
   "outputs": [],
   "source": [
    "newdata = newdata.drop(columns = ['category', 'answer', 'question', 'show_number', 'round', 'value'])"
   ]
  },
  {
   "cell_type": "code",
   "execution_count": 13,
   "id": "b5511f7b",
   "metadata": {},
   "outputs": [
    {
     "data": {
      "text/html": [
       "<div>\n",
       "<style scoped>\n",
       "    .dataframe tbody tr th:only-of-type {\n",
       "        vertical-align: middle;\n",
       "    }\n",
       "\n",
       "    .dataframe tbody tr th {\n",
       "        vertical-align: top;\n",
       "    }\n",
       "\n",
       "    .dataframe thead th {\n",
       "        text-align: right;\n",
       "    }\n",
       "</style>\n",
       "<table border=\"1\" class=\"dataframe\">\n",
       "  <thead>\n",
       "    <tr style=\"text-align: right;\">\n",
       "      <th></th>\n",
       "      <th>air_date</th>\n",
       "      <th>clean_category</th>\n",
       "      <th>clean_round</th>\n",
       "      <th>clean_value</th>\n",
       "    </tr>\n",
       "  </thead>\n",
       "  <tbody>\n",
       "    <tr>\n",
       "      <th>0</th>\n",
       "      <td>2004-12-31</td>\n",
       "      <td>history</td>\n",
       "      <td>jeopardy</td>\n",
       "      <td>200</td>\n",
       "    </tr>\n",
       "    <tr>\n",
       "      <th>1</th>\n",
       "      <td>2004-12-31</td>\n",
       "      <td>espns top 10 alltime athletes</td>\n",
       "      <td>jeopardy</td>\n",
       "      <td>200</td>\n",
       "    </tr>\n",
       "    <tr>\n",
       "      <th>2</th>\n",
       "      <td>2004-12-31</td>\n",
       "      <td>everybody talks about it</td>\n",
       "      <td>jeopardy</td>\n",
       "      <td>200</td>\n",
       "    </tr>\n",
       "    <tr>\n",
       "      <th>3</th>\n",
       "      <td>2004-12-31</td>\n",
       "      <td>the company line</td>\n",
       "      <td>jeopardy</td>\n",
       "      <td>200</td>\n",
       "    </tr>\n",
       "    <tr>\n",
       "      <th>4</th>\n",
       "      <td>2004-12-31</td>\n",
       "      <td>epitaphs  tributes</td>\n",
       "      <td>jeopardy</td>\n",
       "      <td>200</td>\n",
       "    </tr>\n",
       "  </tbody>\n",
       "</table>\n",
       "</div>"
      ],
      "text/plain": [
       "     air_date                 clean_category clean_round clean_value\n",
       "0  2004-12-31                        history    jeopardy         200\n",
       "1  2004-12-31  espns top 10 alltime athletes    jeopardy         200\n",
       "2  2004-12-31       everybody talks about it    jeopardy         200\n",
       "3  2004-12-31               the company line    jeopardy         200\n",
       "4  2004-12-31             epitaphs  tributes    jeopardy         200"
      ]
     },
     "execution_count": 13,
     "metadata": {},
     "output_type": "execute_result"
    }
   ],
   "source": [
    "newdata.head()"
   ]
  },
  {
   "cell_type": "markdown",
   "id": "0de36445",
   "metadata": {},
   "source": [
    "**Part 2: Creating Vectors & Binary Classifier** The testdata will include 10,000 responses from the filtered dataframe (the removed colums). The *value_matrix* is the binary classifier to determine whether a value is \"high\" or \"low\" (Low 0/High 1). "
   ]
  },
  {
   "cell_type": "code",
   "execution_count": 16,
   "id": "37274b74",
   "metadata": {},
   "outputs": [],
   "source": [
    "vector = CountVectorizer() \n",
    "\n",
    "#testdata = (filtered)\n",
    "\n",
    "#0 = less than 1000 #1 over 1000 \n",
    "value_matrix = [1 if int(x.replace(' ', '')) >= 1000 else 0 for x in newdata['clean_value']] "
   ]
  },
  {
   "cell_type": "markdown",
   "id": "0a1a2400",
   "metadata": {},
   "source": [
    "**Part 3: Naives Bayes** Looking at the likelihood of a low value question (\"easy\"). Since the file holds a lot of data, I decided to look at only 10,000 individual dictionaries. "
   ]
  },
  {
   "cell_type": "code",
   "execution_count": 18,
   "id": "b52fa83a",
   "metadata": {},
   "outputs": [],
   "source": [
    "values = [' '.join([x.lower()]) for x in newdata['clean_value']]"
   ]
  },
  {
   "cell_type": "code",
   "execution_count": 25,
   "id": "ef666ba2",
   "metadata": {},
   "outputs": [],
   "source": [
    "testing_df = pd.DataFrame({'valuetype': values[:10000], 'high_low': value_matrix[:10000]})"
   ]
  },
  {
   "cell_type": "code",
   "execution_count": 26,
   "id": "975f7d01",
   "metadata": {},
   "outputs": [],
   "source": [
    "x_train, x_test, y_train, y_test = train_test_split(testing_df.valuetype, testing_df.high_low, random_state=1)"
   ]
  },
  {
   "cell_type": "code",
   "execution_count": 27,
   "id": "e2cbd839",
   "metadata": {},
   "outputs": [],
   "source": [
    "tfidf_vectorizer = TfidfVectorizer(use_idf = True)\n",
    "X_train_tf = tfidf_vectorizer.fit_transform(x_train)\n",
    "X_test_tf = tfidf_vectorizer.transform(x_test)"
   ]
  },
  {
   "cell_type": "code",
   "execution_count": 28,
   "id": "72eb31bc",
   "metadata": {},
   "outputs": [],
   "source": [
    "naives_bayes = MultinomialNB() \n",
    "naives_bayes.fit(X_train_tf, y_train)\n",
    "predictions = naives_bayes.predict(X_test_tf)"
   ]
  },
  {
   "cell_type": "code",
   "execution_count": 29,
   "id": "f3f324be",
   "metadata": {},
   "outputs": [
    {
     "data": {
      "text/plain": [
       "array([0, 1, 0, ..., 1, 0, 0])"
      ]
     },
     "execution_count": 29,
     "metadata": {},
     "output_type": "execute_result"
    }
   ],
   "source": [
    "predictions "
   ]
  },
  {
   "cell_type": "markdown",
   "id": "fba1dbdb",
   "metadata": {},
   "source": [
    "**Note:** The classifier is no where \"accurate\" to where it aligns with the project's intital goal. "
   ]
  },
  {
   "cell_type": "code",
   "execution_count": 30,
   "id": "feb25592",
   "metadata": {},
   "outputs": [
    {
     "name": "stdout",
     "output_type": "stream",
     "text": [
      "Accuracy:  0.9864\n"
     ]
    }
   ],
   "source": [
    "print('Accuracy: ', accuracy_score(y_test, predictions)) "
   ]
  }
 ],
 "metadata": {
  "kernelspec": {
   "display_name": "Python 3 (ipykernel)",
   "language": "python",
   "name": "python3"
  },
  "language_info": {
   "codemirror_mode": {
    "name": "ipython",
    "version": 3
   },
   "file_extension": ".py",
   "mimetype": "text/x-python",
   "name": "python",
   "nbconvert_exporter": "python",
   "pygments_lexer": "ipython3",
   "version": "3.9.7"
  }
 },
 "nbformat": 4,
 "nbformat_minor": 5
}

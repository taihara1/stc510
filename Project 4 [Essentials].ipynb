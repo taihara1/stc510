{
 "cells": [
  {
   "cell_type": "markdown",
   "id": "e6b696aa",
   "metadata": {},
   "source": [
    "**Project 4 Essentials** \n",
    "\n",
    "**Learning Goal:** Selenium & Beautiful Soup \n",
    "\n",
    "**Project Directions:** \"Write a Python script that, when executed, detects any mentions of a particular keyword on Gab, Parler, Telegram, or MeWe, or similar, and stores these to a report.\" \n",
    "\n",
    "**Program Goal:** Use GAB to find posts/discussion with the following key words: \"fries, ingredients, recipe, healthy, and good.\" Post the findings on a csv file. For privacy reasons, the username (who posted) and url were not included. \n",
    "\n",
    "**Script Disclaimer:** Checking the First 10 \"New\" Posts. For Educational Purposes **ONLY** "
   ]
  },
  {
   "cell_type": "code",
   "execution_count": 2,
   "id": "53deb927",
   "metadata": {},
   "outputs": [],
   "source": [
    "from selenium import webdriver\n",
    "from time import sleep\n",
    "from bs4 import BeautifulSoup \n",
    "import requests\n",
    "import pandas as pd\n",
    "import project4_info"
   ]
  },
  {
   "cell_type": "markdown",
   "id": "a4e042d2",
   "metadata": {},
   "source": [
    "**Selenium:** The following section of code is to establish a Chrome Web Driver. Inside selenium's webdriver is the path of where the downloaded file is. For security and privacy reasons, the information is located on a separated file."
   ]
  },
  {
   "cell_type": "code",
   "execution_count": 3,
   "id": "f61b68ab",
   "metadata": {
    "scrolled": true
   },
   "outputs": [
    {
     "name": "stderr",
     "output_type": "stream",
     "text": [
      "/var/folders/qx/zf3k788s7gsc_29f3sn5ycxr0000gn/T/ipykernel_1306/1371343577.py:1: DeprecationWarning: executable_path has been deprecated, please pass in a Service object\n",
      "  browser = webdriver.Chrome(project4_info.path)\n"
     ]
    }
   ],
   "source": [
    "browser = webdriver.Chrome(project4_info.path)\n",
    "sleep(10)"
   ]
  },
  {
   "cell_type": "markdown",
   "id": "93f27e3b",
   "metadata": {},
   "source": [
    "The next block of code are the steps to open the GAB sign in page, using the **get** method. Using the **find element** method and speification (name, id) will allow the web driver locate the areas needed to input the log-in credentials. The **send keys** method will input the str into the field. The **click** method imitates the actions of a mouse click. Lastly the **find element by link text** is a method that finds the parameter on the page. Since I had a difficult time finding the \"Groups\" HTML tag, this was an easier althernative to use. \n",
    "\n",
    "**Note:** It is important to include sleeps in-between every action ^ . ^ "
   ]
  },
  {
   "cell_type": "code",
   "execution_count": 4,
   "id": "b9ba0243",
   "metadata": {},
   "outputs": [
    {
     "name": "stderr",
     "output_type": "stream",
     "text": [
      "/var/folders/qx/zf3k788s7gsc_29f3sn5ycxr0000gn/T/ipykernel_1306/2268293971.py:6: DeprecationWarning: find_element_by_* commands are deprecated. Please use find_element() instead\n",
      "  log_form = browser.find_element_by_id('user_email').send_keys(project4_info.user)\n",
      "/var/folders/qx/zf3k788s7gsc_29f3sn5ycxr0000gn/T/ipykernel_1306/2268293971.py:9: DeprecationWarning: find_element_by_* commands are deprecated. Please use find_element() instead\n",
      "  log_pass = browser.find_element_by_id('user_password').send_keys(project4_info.password)\n",
      "/var/folders/qx/zf3k788s7gsc_29f3sn5ycxr0000gn/T/ipykernel_1306/2268293971.py:12: DeprecationWarning: find_element_by_* commands are deprecated. Please use find_element() instead\n",
      "  pass_button = browser.find_element_by_name('button').click()\n",
      "/var/folders/qx/zf3k788s7gsc_29f3sn5ycxr0000gn/T/ipykernel_1306/2268293971.py:15: DeprecationWarning: find_element_by_* commands are deprecated. Please use find_element() instead\n",
      "  group = browser.find_element_by_link_text('Groups')\n"
     ]
    }
   ],
   "source": [
    "login_page = 'https://gab.com/auth/sign_in'\n",
    "\n",
    "browser.get(login_page)\n",
    "sleep(20)\n",
    "\n",
    "log_form = browser.find_element_by_id('user_email').send_keys(project4_info.user) \n",
    "sleep(20)\n",
    "\n",
    "log_pass = browser.find_element_by_id('user_password').send_keys(project4_info.password) \n",
    "sleep(20)\n",
    "\n",
    "pass_button = browser.find_element_by_name('button').click() \n",
    "sleep(20)\n",
    "\n",
    "group = browser.find_element_by_link_text('Groups')\n",
    "sleep(5)\n",
    "group.click() \n",
    "\n",
    "sleep(40)\n",
    "\n",
    "page = browser.page_source"
   ]
  },
  {
   "cell_type": "markdown",
   "id": "e4b2d742",
   "metadata": {},
   "source": [
    "**Beautiful Soup:** After getting the page source from the current page, it was put into Beautiful Soup's html parser. The next few lines are similar to the first project since it had similar goals. "
   ]
  },
  {
   "cell_type": "code",
   "execution_count": 5,
   "id": "d598fb89",
   "metadata": {},
   "outputs": [],
   "source": [
    "bs = BeautifulSoup(page, 'html.parser')"
   ]
  },
  {
   "cell_type": "code",
   "execution_count": 6,
   "id": "031b74d8",
   "metadata": {},
   "outputs": [],
   "source": [
    "def check_keyword(post: 'post text', list_words: 'list of words'): \n",
    "    #Returns a string of the keywords or an empty str if there's no match \n",
    "    posts = post.lower() \n",
    "    result = '' \n",
    "    for every_word in list_words: \n",
    "        if every_word.lower() in post: \n",
    "            result += every_word + ','\n",
    "    return result "
   ]
  },
  {
   "cell_type": "markdown",
   "id": "94514b6c",
   "metadata": {},
   "source": [
    "**Keywords:** I changed the keywords to be food-related than mattress/moving related. There wasn't much activity with words from the Basic Project, so I wanted to choose a group page with hourly posts. "
   ]
  },
  {
   "cell_type": "code",
   "execution_count": 8,
   "id": "25727606",
   "metadata": {},
   "outputs": [],
   "source": [
    "posts = bs.findAll('div', class_='SslQJ _2tTSp') \n",
    "keywords = ['fries', 'ingredients', 'recipe', 'healthy', 'good']\n",
    "final = {'Keyword': [], 'Post Title': [], 'Posted': []}\n",
    "count = 0"
   ]
  },
  {
   "cell_type": "markdown",
   "id": "c0bee3c0",
   "metadata": {},
   "source": [
    "**Note**: I could have put this for-loop into a function..."
   ]
  },
  {
   "cell_type": "code",
   "execution_count": 10,
   "id": "c5509557",
   "metadata": {},
   "outputs": [],
   "source": [
    "time = bs.findAll('time')"
   ]
  },
  {
   "cell_type": "code",
   "execution_count": 11,
   "id": "4abc2d1b",
   "metadata": {},
   "outputs": [
    {
     "name": "stdout",
     "output_type": "stream",
     "text": [
      "Completing Result # 1\n",
      "Completing Result # 2\n",
      "Completing Result # 3\n",
      "Completing Result # 4\n",
      "Completing Result # 5\n",
      "Completing Result # 6\n",
      "Completing Result # 7\n",
      "Completing Result # 8\n",
      "Completing Result # 9\n",
      "Completing Result # 10\n",
      "\n",
      "File Complete\n"
     ]
    }
   ],
   "source": [
    "for post in posts[:10]: \n",
    "    sleep(5) \n",
    "        \n",
    "    if check_keyword(post.text, keywords) != '': \n",
    "        sleep(10)\n",
    "        final['Keyword'].append(check_keyword(post.text, keywords))\n",
    "        final['Post Title'].append(post.text)\n",
    "        final['Posted'].append(time[count]['title'])\n",
    "    \n",
    "    count += 1 \n",
    "    print('Completing Result # ' + str(count))\n",
    "\n",
    "browser.quit()\n",
    "df = pd.DataFrame(final)\n",
    "df.to_csv('gab_cooking.csv') \n",
    "print('\\nFile Complete')\n",
    "        "
   ]
  },
  {
   "cell_type": "code",
   "execution_count": null,
   "id": "a24a185e",
   "metadata": {},
   "outputs": [],
   "source": [
    "#browser.quit()"
   ]
  }
 ],
 "metadata": {
  "kernelspec": {
   "display_name": "Python 3 (ipykernel)",
   "language": "python",
   "name": "python3"
  },
  "language_info": {
   "codemirror_mode": {
    "name": "ipython",
    "version": 3
   },
   "file_extension": ".py",
   "mimetype": "text/x-python",
   "name": "python",
   "nbconvert_exporter": "python",
   "pygments_lexer": "ipython3",
   "version": "3.9.7"
  }
 },
 "nbformat": 4,
 "nbformat_minor": 5
}

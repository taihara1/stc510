{
 "cells": [
  {
   "cell_type": "markdown",
   "id": "a48de51e",
   "metadata": {},
   "source": [
    "# **Exploratory Data Analysis Essentials**\n",
    "\n",
    "By: Tiffany Aihara"
   ]
  },
  {
   "cell_type": "markdown",
   "id": "06833c58",
   "metadata": {},
   "source": [
    "### **Background:** \n",
    "\n",
    "Online dating has gained more popularity in recent years. Each dater creates a profile that is shared with people nearby. Since dating profiles have both texts and images, online daters struggle with “managing” their online presence (Ellison et al., 2006). During the initial stages, self-presentation strategies, “first-impressions,” are significant in whether an interaction is considered “successful” (Derlega et al., 1987). Ellison et al. (2006) find the importance of portraying the ideal self in one’s profile. Most participants from their study had a recurrence of the ideal self where participants create a profile that not only describes themselves today but also their potential and future version of themselves. Online daters can make self-presentational choices, where they can choose what information to disclose, how to disclose it, and whether to engage in “deception” (Hancock & Toma 2009). Deception within the online dating community often is illustrated through exaggerated information that either emphasized their status or physical attractiveness (Guadagno et. al, 2012). \n",
    "\n",
    "\n",
    "Online daters are typically guided by two forces. The first is self-enhancement which reflects a dater’s desire to “appear as attractive as possible” to their potential match. The second is authenticity which reflects the need to be seen as honest in their depiction (Hancock & Toma 2009). The “accuracy” of an online dater’s profile reflected authenticity or being perceived as honest by potential matches. "
   ]
  },
  {
   "cell_type": "markdown",
   "id": "2bb6801a",
   "metadata": {},
   "source": [
    "### Interest to Question\n",
    "\n",
    "My initial interest was to explore whether online daters choose athenticity or attractiveness, or how much of both, when constructing their profile (self-presentation). From this initial interest, I developed the following questions: *How do people in the online dating community view profiles? What type of \"advice\" is given? In the spectrum between authencity and attractiveness, where does \"this\" advice lie? Does it reveal any greater cultural or societal norms?* \n",
    "\n",
    "**Research Aim:** To identify whether online dating advice (from the dating pool) reflects authencity (personality, unedited/filtered) or attractiveness.\n",
    "\n",
    "**Research Question(s):** What types of \"advice\" do daters receive from a public profile review? Is attractiveness or authencity viewed as \"more proactive\" amongst the online dating community? \n",
    "\n",
    "**Note (After Data Collection):** Sentiment analysis libraries tend to focus on whether they are positive, negative, or neutral. For the purpose of this project, I have decided to classify \"positive\" as constructive or helpful advice and \"negative\" as not as helpful. "
   ]
  },
  {
   "cell_type": "markdown",
   "id": "8b16515b",
   "metadata": {},
   "source": [
    "### Finding & Collecting Data\n",
    "\n",
    "To answer the research question, I will be exploring the *Hinge Dating App* Reddit page. The *Hinge Dating App Reddit Page* has \"flairs,\" which are individual topic filters. The page has the flairs help, discussion, profile review, daily thread, dating questions, and app questions. I have filtered the data to **only search** through **profile reviews.**\n",
    "\n",
    "The data will only look at the first 100 submissions. "
   ]
  },
  {
   "cell_type": "code",
   "execution_count": 1,
   "id": "cbb7fa74",
   "metadata": {},
   "outputs": [],
   "source": [
    "import praw\n",
    "import reddit_info \n",
    "import pandas as pd\n",
    "from string import punctuation \n",
    "from nltk import sent_tokenize, word_tokenize\n",
    "from nltk.corpus import stopwords\n",
    "import re\n",
    "from collections import Counter\n",
    "from nltk.sentiment.vader import SentimentIntensityAnalyzer"
   ]
  },
  {
   "cell_type": "code",
   "execution_count": 2,
   "id": "890253b7",
   "metadata": {},
   "outputs": [],
   "source": [
    "reddit = praw.Reddit(user_agent='Online Dating Profiles', \n",
    "                    client_id = reddit_info.reddit_id, client_secret = reddit_info.secret, \n",
    "                    username = reddit_info.username, password = reddit_info.password)"
   ]
  },
  {
   "cell_type": "code",
   "execution_count": 3,
   "id": "034631a9",
   "metadata": {},
   "outputs": [],
   "source": [
    "subreddit =  reddit.subreddit('hingeapp')\n",
    "submissions = subreddit.top(limit=100)"
   ]
  },
  {
   "cell_type": "code",
   "execution_count": 4,
   "id": "2fa3ee90",
   "metadata": {},
   "outputs": [],
   "source": [
    "profile_reviews = {'id': [], 'title': [], 'link': [], 'date': []}\n",
    "\n",
    "for submission in subreddit.search('flair:\"Profile Review\"', syntax='lucene'):\n",
    "    profile_reviews['id'].append(submission.id) \n",
    "    profile_reviews['title'].append(submission.title)\n",
    "    profile_reviews['link'].append(submission.permalink)\n",
    "    profile_reviews['date'].append(submission.created_utc)"
   ]
  },
  {
   "cell_type": "code",
   "execution_count": 5,
   "id": "2e2222dd",
   "metadata": {},
   "outputs": [],
   "source": [
    "result = [] \n",
    "for each_id in profile_reviews['id']: \n",
    "    for each_comment in reddit.submission(each_id).comments[1:]: \n",
    "        result.append(each_comment.body)"
   ]
  },
  {
   "cell_type": "markdown",
   "id": "790fda02",
   "metadata": {},
   "source": [
    "**Why is it comments[1:]?** Seeing the first few comments in results, there is the following sentences: \"Are you looking for something serious or casual? How long have you been on Hinge? How many likes/matches are you getting on average?\" These questions in the comments is a bot. Therefore, to remove the bot question the first index of the comment thread (0) was not included. "
   ]
  },
  {
   "cell_type": "markdown",
   "id": "7424f1c1",
   "metadata": {},
   "source": [
    "### Filtering & Cleaning the Data\n",
    "To get the word frequency, characters that were not numbers or letters were removed. I could have used lemmatizer() to obtain the stem. However, my confidence level was not high, and thus went with a simple word tokenizer. "
   ]
  },
  {
   "cell_type": "code",
   "execution_count": 6,
   "id": "68fbd46c",
   "metadata": {},
   "outputs": [],
   "source": [
    "def remove_punctuation(word): \n",
    "    #Removes punctuation & returns just the word \n",
    "    word = word.lower() \n",
    "    new_word = re.sub('[^A-Za-z0-9\\s]', '', word)\n",
    "    return new_word"
   ]
  },
  {
   "cell_type": "code",
   "execution_count": 7,
   "id": "95cccdfa",
   "metadata": {},
   "outputs": [],
   "source": [
    "sample = [remove_punctuation(x) for x in result]\n",
    "stop_words = set(stopwords.words('english'))"
   ]
  },
  {
   "cell_type": "code",
   "execution_count": 8,
   "id": "d7b3c939",
   "metadata": {},
   "outputs": [],
   "source": [
    "cleaned_data = [word.replace('\\n', ' ') for word in sample] \n",
    "corpus = '' \n",
    "\n",
    "for each_sentence in cleaned_data: \n",
    "    corpus += each_sentence + ' '"
   ]
  },
  {
   "cell_type": "code",
   "execution_count": 9,
   "id": "239a4c59",
   "metadata": {},
   "outputs": [
    {
     "data": {
      "text/plain": [
       "['haha is this serious or a joke',\n",
       " 'last selfie looks the most human definitely nix it  also biblically accurate angels are a bit trite at this point theyre all over the internet as memes id come up with something even more demonic and singular for your third prompt if you really want to bag some bad succubi',\n",
       " 'hey man for all those judging you my friends brother who is very goth and eclectic married his very goth and eclectic girlfriend a couple years ago the bridesmaids held daggers instead of bouquets there was some sort of flame when they kissed oh and the bride was walkeddown the aisle in a coffin they are very happy and cute together whatever makes you happy youre more genuine with yourself than most people on the app more power to you',\n",
       " 'very niche',\n",
       " 'removed']"
      ]
     },
     "execution_count": 9,
     "metadata": {},
     "output_type": "execute_result"
    }
   ],
   "source": [
    "cleaned_data[:5] #first five items of the cleaned data (visually see what this looks like)"
   ]
  },
  {
   "cell_type": "code",
   "execution_count": 10,
   "id": "ffecc918",
   "metadata": {},
   "outputs": [],
   "source": [
    "sample_token = word_tokenize(corpus)\n",
    "clean_token = [word for word in sample_token if not word in stop_words]"
   ]
  },
  {
   "cell_type": "code",
   "execution_count": 11,
   "id": "91cc8dd9",
   "metadata": {},
   "outputs": [
    {
     "data": {
      "text/plain": [
       "['haha',\n",
       " 'serious',\n",
       " 'joke',\n",
       " 'last',\n",
       " 'selfie',\n",
       " 'looks',\n",
       " 'human',\n",
       " 'definitely',\n",
       " 'nix',\n",
       " 'also']"
      ]
     },
     "execution_count": 11,
     "metadata": {},
     "output_type": "execute_result"
    }
   ],
   "source": [
    "clean_token[:10] #printing only the first 10 tokenize words"
   ]
  },
  {
   "cell_type": "code",
   "execution_count": 15,
   "id": "f5c6d9e4",
   "metadata": {},
   "outputs": [],
   "source": [
    "word_appearance = {'word': [], 'count': []}\n",
    "counter_data = [Counter(clean_token)]\n",
    "\n",
    "for counter in counter_data: \n",
    "    for items in counter.items(): \n",
    "        word_appearance['word'].append(items[0])\n",
    "        word_appearance['count'].append(items[1]) "
   ]
  },
  {
   "cell_type": "markdown",
   "id": "6740df4a",
   "metadata": {},
   "source": [
    "### Frequent Words & Advice - Type Using Sentiment Score\n",
    "In order to get the first five \"most\" occurred word, I sorted the dictionary, word_appearance, by count. However, since Reddit posts change **every day** it is important to update and switch out the list of numbers in *top_five*. A quick reminder that the code above should be re-ran because you have to **reset** the list so that the word and count have the same index."
   ]
  },
  {
   "cell_type": "code",
   "execution_count": 13,
   "id": "2981e5da",
   "metadata": {},
   "outputs": [],
   "source": [
    "word_appearance['count'].sort(reverse = True)"
   ]
  },
  {
   "cell_type": "code",
   "execution_count": 17,
   "id": "30abdff4",
   "metadata": {},
   "outputs": [],
   "source": [
    "top_five = [795, 661, 639, 529, 521]\n",
    "#word_appearance['count'][:5]\n",
    "#make sure to referesh the code above!! "
   ]
  },
  {
   "cell_type": "code",
   "execution_count": 18,
   "id": "5a8c776b",
   "metadata": {},
   "outputs": [],
   "source": [
    "result_id = []\n",
    "for i in range(len(top_five)):  \n",
    "    result_id.append(word_appearance['count'].index(top_five[i]))\n",
    "\n",
    "result_words = [] \n",
    "for i in range(len(result_id)): \n",
    "    result_words.append(word_appearance['word'][result_id[i]])\n",
    "    \n",
    "topfive_occur = {'Word': result_words, 'Count/Appearance': top_five}\n",
    "search_words = topfive_occur['Word']"
   ]
  },
  {
   "cell_type": "code",
   "execution_count": 19,
   "id": "cbef4ead",
   "metadata": {},
   "outputs": [
    {
     "data": {
      "text/plain": [
       "['like', 'youre', 'profile', 'would', 'good']"
      ]
     },
     "execution_count": 19,
     "metadata": {},
     "output_type": "execute_result"
    }
   ],
   "source": [
    "#Top Word Occurance (5)\n",
    "search_words"
   ]
  },
  {
   "cell_type": "code",
   "execution_count": 20,
   "id": "b259a407",
   "metadata": {},
   "outputs": [],
   "source": [
    "def check_keyword(keywords: 'list of words', body: 'titletext'): \n",
    "    #Returns the keywords ONLY if it is in the title \n",
    "    body = body.lower() \n",
    "    result = '' \n",
    "    for every_word in keywords: \n",
    "        if every_word in body: \n",
    "            result += every_word + ', '\n",
    "        else: \n",
    "            pass\n",
    "    return result"
   ]
  },
  {
   "cell_type": "code",
   "execution_count": 21,
   "id": "6be6076f",
   "metadata": {
    "scrolled": true
   },
   "outputs": [],
   "source": [
    "topword_data_sample = {'Keyword': [], \"Text\": [], 'Polarity Score': []}\n",
    "for each_comment in result: \n",
    "    if check_keyword(search_words, each_comment) != '': \n",
    "        topword_data_sample['Keyword'].append(check_keyword(search_words, each_comment)) \n",
    "        topword_data_sample['Text'].append(each_comment)\n",
    "    else: \n",
    "        continue "
   ]
  },
  {
   "cell_type": "markdown",
   "id": "b485e49d",
   "metadata": {},
   "source": [
    "**Sentiment Score:** The dictionary, *topword_data_sample* is a dictionary that holds keyword(s), text, and polarity score. Keywords is one of the top_five most used word. Text is the comment that the keyword is in. The polarity score is whether the comment is classified as positive or negative. \n",
    "\n",
    "To get the sentiment score, I looked at the \"text\" only. Since the appended text is an \"uncleaned\" version, the text needs to be filtered and cleaned. NLTK's Sentiment Intensity Analyzer is a built in method that measures the positivity and negativity level of a response. This library is often used to analyze tweets and reviews. "
   ]
  },
  {
   "cell_type": "code",
   "execution_count": 22,
   "id": "ec5537fe",
   "metadata": {},
   "outputs": [],
   "source": [
    "topword_data_sample['Text']\n",
    "\n",
    "topword_text = [remove_punctuation(x) for x in topword_data_sample['Text']]\n",
    "cleaned_topword = [word.replace('\\n', ' ') for word in topword_text] "
   ]
  },
  {
   "cell_type": "code",
   "execution_count": 23,
   "id": "c2c6c70b",
   "metadata": {},
   "outputs": [],
   "source": [
    "def sentiment_analyze(text): \n",
    "    #text should be a cleaned text \n",
    "    score = SentimentIntensityAnalyzer().polarity_scores(text)\n",
    "    neg = score['neg']\n",
    "    pos = score['pos']\n",
    "    if neg > pos: \n",
    "        topword_data_sample['Polarity Score'].append('Negative')\n",
    "    elif pos > neg: \n",
    "        topword_data_sample['Polarity Score'].append(\"Positive\")\n",
    "    else: \n",
    "        topword_data_sample['Polarity Score'].append(\"Neutral\")"
   ]
  },
  {
   "cell_type": "code",
   "execution_count": 24,
   "id": "5e77d489",
   "metadata": {},
   "outputs": [],
   "source": [
    "for each_sentence in topword_data_sample['Text']: \n",
    "    sentiment_analyze(each_sentence)"
   ]
  },
  {
   "cell_type": "markdown",
   "id": "713691c3",
   "metadata": {},
   "source": [
    "The dictionary was put into a dataframe and later stored in a csv file (which is in the github). \n",
    "\n",
    "For visual notes, check out the first few results of what the comment was classified as. "
   ]
  },
  {
   "cell_type": "code",
   "execution_count": 25,
   "id": "27f0b50d",
   "metadata": {},
   "outputs": [
    {
     "data": {
      "text/html": [
       "<div>\n",
       "<style scoped>\n",
       "    .dataframe tbody tr th:only-of-type {\n",
       "        vertical-align: middle;\n",
       "    }\n",
       "\n",
       "    .dataframe tbody tr th {\n",
       "        vertical-align: top;\n",
       "    }\n",
       "\n",
       "    .dataframe thead th {\n",
       "        text-align: right;\n",
       "    }\n",
       "</style>\n",
       "<table border=\"1\" class=\"dataframe\">\n",
       "  <thead>\n",
       "    <tr style=\"text-align: right;\">\n",
       "      <th></th>\n",
       "      <th>Keyword</th>\n",
       "      <th>Text</th>\n",
       "      <th>Polarity Score</th>\n",
       "    </tr>\n",
       "  </thead>\n",
       "  <tbody>\n",
       "    <tr>\n",
       "      <th>0</th>\n",
       "      <td>like, would, good,</td>\n",
       "      <td>Very chaotic and it's good to let your matches...</td>\n",
       "      <td>Positive</td>\n",
       "    </tr>\n",
       "    <tr>\n",
       "      <th>1</th>\n",
       "      <td>like, would, good,</td>\n",
       "      <td>Honestly I think it's good that you're swervin...</td>\n",
       "      <td>Positive</td>\n",
       "    </tr>\n",
       "    <tr>\n",
       "      <th>2</th>\n",
       "      <td>profile, good,</td>\n",
       "      <td>What are you looking for on Hinge? Based on yo...</td>\n",
       "      <td>Positive</td>\n",
       "    </tr>\n",
       "    <tr>\n",
       "      <th>3</th>\n",
       "      <td>good,</td>\n",
       "      <td>For the automods questions:\\n1. Serious or cas...</td>\n",
       "      <td>Positive</td>\n",
       "    </tr>\n",
       "    <tr>\n",
       "      <th>4</th>\n",
       "      <td>would,</td>\n",
       "      <td>As a woman who is into black metal, this made ...</td>\n",
       "      <td>Positive</td>\n",
       "    </tr>\n",
       "  </tbody>\n",
       "</table>\n",
       "</div>"
      ],
      "text/plain": [
       "               Keyword                                               Text  \\\n",
       "0  like, would, good,   Very chaotic and it's good to let your matches...   \n",
       "1  like, would, good,   Honestly I think it's good that you're swervin...   \n",
       "2      profile, good,   What are you looking for on Hinge? Based on yo...   \n",
       "3               good,   For the automods questions:\\n1. Serious or cas...   \n",
       "4              would,   As a woman who is into black metal, this made ...   \n",
       "\n",
       "  Polarity Score  \n",
       "0       Positive  \n",
       "1       Positive  \n",
       "2       Positive  \n",
       "3       Positive  \n",
       "4       Positive  "
      ]
     },
     "execution_count": 25,
     "metadata": {},
     "output_type": "execute_result"
    }
   ],
   "source": [
    "df = pd.DataFrame(topword_data_sample) \n",
    "df.head(5)"
   ]
  },
  {
   "cell_type": "code",
   "execution_count": 26,
   "id": "e4cbb028",
   "metadata": {},
   "outputs": [
    {
     "data": {
      "text/plain": [
       "Positive    1038\n",
       "Negative     119\n",
       "Neutral       32\n",
       "Name: Polarity Score, dtype: int64"
      ]
     },
     "execution_count": 26,
     "metadata": {},
     "output_type": "execute_result"
    }
   ],
   "source": [
    "df['Polarity Score'].value_counts() "
   ]
  },
  {
   "cell_type": "code",
   "execution_count": 27,
   "id": "3b2cd00f",
   "metadata": {},
   "outputs": [],
   "source": [
    "df.to_csv('hingeapp_advice.csv')"
   ]
  },
  {
   "cell_type": "markdown",
   "id": "78a3fe49",
   "metadata": {},
   "source": [
    "### Final Thoughts\n",
    "Initially, the polarity scores show a lot of positive feedback for users. This indicates that the dating profile review advice is effective and helpful for those who are posting/asking for it. \n",
    "\n",
    "After viewing the csv file, I noticed that some of the advice that were marked \"positive\" were actually \"negative.\" The sentiment analysis fails to notice tone (specifically sarcasm) which could affect the level of helpfulness. \n",
    "\n",
    "Although this section answers what type of advice is given and the level of helpfulness, it still lacked the answer to whether authencity or attractiveness played a role. I want to further explore this project and look for words (datasheets) that are synonyms or word insinuating a comment towards attraction and authencity. \n",
    "\n",
    "I will be exploring this a for a bit and will paste it here (in updated repository)."
   ]
  },
  {
   "cell_type": "markdown",
   "id": "b1bc2a30",
   "metadata": {},
   "source": [
    "### Attempt to Make A Sentiment Score\n",
    "**Goal:** If there is a \"x\" number of attraction or authenticity phrases and then print the score as the category. If it doesn't then it's neither. \n",
    "\n",
    "**Method:** Using the tokenized words (from above) we will be using those words to measure whether the post's advice is centered more towards attraction or authencity. I just took a few words and placed them in either what is associated with \"personality/persona/authenicity\" and what is associated with \"attraction/looks/physical appearance.\" \n",
    "\n",
    "**Note:** This sentiment will only be tested with the first 10 results from the most used words dictionary. "
   ]
  },
  {
   "cell_type": "code",
   "execution_count": 28,
   "id": "f507ede5",
   "metadata": {},
   "outputs": [],
   "source": [
    "authenticity = ['prompts', 'prompt', 'joke', 'accurate', 'happy', 'laugh', 'hobbies', \n",
    "               'hobby', 'passionate', 'casual', 'unique', 'honest', 'rounded', 'honesty', 'friendly', \n",
    "               'sociable', 'nice', 'chill', 'interests', 'interest', 'adventure', 'personality', 'write', \n",
    "               'prompts', 'bio', 'voice', 'boring', 'bland', 'dry']\n",
    "\n",
    "attraction = ['pic', 'photo', 'good looking', 'picture', 'look', 'pictures', 'swipe', \n",
    "             'cute', 'blurry', 'selfie', 'hot', 'beautiful', 'perfection', 'attractive', 'attract', \n",
    "             'swipe right', 'blonde', 'brunette', 'eyes', 'hair', 'height', 'looks', 'better photo', 'appearance', \n",
    "             'look bad', 'ugly'] \n",
    "\n",
    "neither = ['like', 'love', 'profile', 'good', 'really', 'matches', 'natural'] "
   ]
  },
  {
   "cell_type": "code",
   "execution_count": 29,
   "id": "78c841a3",
   "metadata": {},
   "outputs": [],
   "source": [
    "def check_authenticity(autlist, bodytext): \n",
    "    #Returns the score count of the number of appearances \n",
    "    score = 0 \n",
    "    for every_word in autlist: \n",
    "        if every_word in bodytext: \n",
    "            score += 1 \n",
    "        else: \n",
    "            continue \n",
    "    return score \n",
    "\n",
    "def check_attraction(attlist, bodytext): \n",
    "    #Returns the score count of the number of appearances \n",
    "    score = 0 \n",
    "    for every_word in attlist: \n",
    "        if every_word in bodytext: \n",
    "            score += 1\n",
    "        else: \n",
    "            continue \n",
    "    return score \n",
    "\n",
    "def check_neutral(neither, bodytext): \n",
    "    #Returns the score count of the number of appearance \n",
    "    score = 0 \n",
    "    for each_word in neither: \n",
    "        if each_word in neither: \n",
    "            score += 0 \n",
    "        else: \n",
    "            continue \n",
    "    return score \n",
    "    "
   ]
  },
  {
   "cell_type": "code",
   "execution_count": 32,
   "id": "fe55c24e",
   "metadata": {},
   "outputs": [],
   "source": [
    "au_score = 0 \n",
    "att_score = 0\n",
    "nu = 0\n",
    "\n",
    "\n",
    "measure_post = df[:10]\n",
    "results = []\n",
    "\n",
    "for every_sentence in topword_data_sample['Text'][:10]: \n",
    "    au_score = check_authenticity(authenticity, every_sentence)\n",
    "    att_score = check_attraction(attraction, every_sentence) \n",
    "    nu = check_neutral(neither, every_sentence) \n",
    "    \n",
    "    if au_score >= att_score and au_score >= nu: \n",
    "        results.append('Authentic')\n",
    "        #print('authentic')\n",
    "    elif att_score >= au_score and att_score >= nu: \n",
    "        results.append('Attraction')\n",
    "    elif nu >= att_score and nu >= au_score: \n",
    "        results.append('Neutral')\n",
    "    else: \n",
    "        results.append(\"Inconclusive\")\n",
    "    "
   ]
  },
  {
   "cell_type": "markdown",
   "id": "abe71f42",
   "metadata": {},
   "source": [
    "Although the test words to measure authenticity, attraction, and neutrality is a small pool of words it did produce some results. The functions counted the number of words in the sentence and compared it with the other words (in terms of score). This small test ignored tone and sentence structure.\n",
    "\n",
    "\n",
    "For example, line 7 shows the Redditor commenting on the dater's images and self-presentation (physically). In terms of the initial research question, the number of advice for improving a dater's match rate is about the same. Reviewers and their feedback provide helpful tips for improving self-presentation (both in photography - looks - and prompts - personality -).   \n",
    "\n",
    "I think this a great start into something that I am interested to explore further! "
   ]
  },
  {
   "cell_type": "code",
   "execution_count": 37,
   "id": "6968dcdd",
   "metadata": {},
   "outputs": [
    {
     "data": {
      "text/html": [
       "<div>\n",
       "<style scoped>\n",
       "    .dataframe tbody tr th:only-of-type {\n",
       "        vertical-align: middle;\n",
       "    }\n",
       "\n",
       "    .dataframe tbody tr th {\n",
       "        vertical-align: top;\n",
       "    }\n",
       "\n",
       "    .dataframe thead th {\n",
       "        text-align: right;\n",
       "    }\n",
       "</style>\n",
       "<table border=\"1\" class=\"dataframe\">\n",
       "  <thead>\n",
       "    <tr style=\"text-align: right;\">\n",
       "      <th></th>\n",
       "      <th>Keyword</th>\n",
       "      <th>Text</th>\n",
       "      <th>Polarity Score</th>\n",
       "      <th>Authentic/Attraction Level</th>\n",
       "    </tr>\n",
       "  </thead>\n",
       "  <tbody>\n",
       "    <tr>\n",
       "      <th>0</th>\n",
       "      <td>like, would, good,</td>\n",
       "      <td>Very chaotic and it's good to let your matches...</td>\n",
       "      <td>Positive</td>\n",
       "      <td>Attraction</td>\n",
       "    </tr>\n",
       "    <tr>\n",
       "      <th>1</th>\n",
       "      <td>like, would, good,</td>\n",
       "      <td>Honestly I think it's good that you're swervin...</td>\n",
       "      <td>Positive</td>\n",
       "      <td>Attraction</td>\n",
       "    </tr>\n",
       "    <tr>\n",
       "      <th>2</th>\n",
       "      <td>profile, good,</td>\n",
       "      <td>What are you looking for on Hinge? Based on yo...</td>\n",
       "      <td>Positive</td>\n",
       "      <td>Attraction</td>\n",
       "    </tr>\n",
       "    <tr>\n",
       "      <th>3</th>\n",
       "      <td>good,</td>\n",
       "      <td>For the automods questions:\\n1. Serious or cas...</td>\n",
       "      <td>Positive</td>\n",
       "      <td>Authentic</td>\n",
       "    </tr>\n",
       "    <tr>\n",
       "      <th>4</th>\n",
       "      <td>would,</td>\n",
       "      <td>As a woman who is into black metal, this made ...</td>\n",
       "      <td>Positive</td>\n",
       "      <td>Authentic</td>\n",
       "    </tr>\n",
       "    <tr>\n",
       "      <th>5</th>\n",
       "      <td>like,</td>\n",
       "      <td>I like the pre-coffee me pic in the woods. Is ...</td>\n",
       "      <td>Positive</td>\n",
       "      <td>Attraction</td>\n",
       "    </tr>\n",
       "    <tr>\n",
       "      <th>6</th>\n",
       "      <td>like,</td>\n",
       "      <td>Move your last photo to the first slot. If idk...</td>\n",
       "      <td>Negative</td>\n",
       "      <td>Attraction</td>\n",
       "    </tr>\n",
       "    <tr>\n",
       "      <th>7</th>\n",
       "      <td>like, profile,</td>\n",
       "      <td>You're quite handsome, and I think you need mo...</td>\n",
       "      <td>Positive</td>\n",
       "      <td>Attraction</td>\n",
       "    </tr>\n",
       "    <tr>\n",
       "      <th>8</th>\n",
       "      <td>like, profile, would, good,</td>\n",
       "      <td>It’s clear that your aim is to attract a speci...</td>\n",
       "      <td>Positive</td>\n",
       "      <td>Authentic</td>\n",
       "    </tr>\n",
       "    <tr>\n",
       "      <th>9</th>\n",
       "      <td>like,</td>\n",
       "      <td>Genuinely curious, how many matches do you get...</td>\n",
       "      <td>Positive</td>\n",
       "      <td>Authentic</td>\n",
       "    </tr>\n",
       "  </tbody>\n",
       "</table>\n",
       "</div>"
      ],
      "text/plain": [
       "                        Keyword  \\\n",
       "0           like, would, good,    \n",
       "1           like, would, good,    \n",
       "2               profile, good,    \n",
       "3                        good,    \n",
       "4                       would,    \n",
       "5                        like,    \n",
       "6                        like,    \n",
       "7               like, profile,    \n",
       "8  like, profile, would, good,    \n",
       "9                        like,    \n",
       "\n",
       "                                                Text Polarity Score  \\\n",
       "0  Very chaotic and it's good to let your matches...       Positive   \n",
       "1  Honestly I think it's good that you're swervin...       Positive   \n",
       "2  What are you looking for on Hinge? Based on yo...       Positive   \n",
       "3  For the automods questions:\\n1. Serious or cas...       Positive   \n",
       "4  As a woman who is into black metal, this made ...       Positive   \n",
       "5  I like the pre-coffee me pic in the woods. Is ...       Positive   \n",
       "6  Move your last photo to the first slot. If idk...       Negative   \n",
       "7  You're quite handsome, and I think you need mo...       Positive   \n",
       "8  It’s clear that your aim is to attract a speci...       Positive   \n",
       "9  Genuinely curious, how many matches do you get...       Positive   \n",
       "\n",
       "  Authentic/Attraction Level  \n",
       "0                 Attraction  \n",
       "1                 Attraction  \n",
       "2                 Attraction  \n",
       "3                  Authentic  \n",
       "4                  Authentic  \n",
       "5                 Attraction  \n",
       "6                 Attraction  \n",
       "7                 Attraction  \n",
       "8                  Authentic  \n",
       "9                  Authentic  "
      ]
     },
     "execution_count": 37,
     "metadata": {},
     "output_type": "execute_result"
    }
   ],
   "source": [
    "measure_post['Authentic/Attraction Level'] = results \n",
    "measure_post"
   ]
  },
  {
   "cell_type": "markdown",
   "id": "b5e502aa",
   "metadata": {},
   "source": [
    "### Works Cited\n",
    "Derlega, V., Winstead, B., Wong, P., & Greenspan, M. (1987). Self-disclosure and relationship\n",
    "development: An attributional analysis. In M. E. Roloff & G. R. Miller (Eds.), Interpersonal Processes: New Directions in Communication Research (pp. 172–187).Thousand Oaks, CA:Sage.\n",
    "\n",
    "Ellison, Heino, R., & Gibbs, J. (2006). Managing Impressions Online: Self-Presentation Processes in the Online Dating Environment. Journal of Computer-Mediated Communication, 11(2), 415–441. https://doi.org/10.1111/j.1083-6101.2006.00020.\n",
    "\n",
    "Guadagno, Okdie, B. M., & Kruse, S. A. (2012). Dating deception: Gender, online dating, and exaggerated self-presentation. Computers in Human Behavior, 28(2), 642–647. https://doi.org/10.1016/j.chb.2011.11.010. \n",
    "\n",
    "Hancock, & Toma, C. L. (2009). Putting Your Best Face Forward: The Accuracy of Online Dating Photographs. Journal of Communication, 59(2), 367–386. https://doi.org/10.1111/j.1460-2466.2009.01420.x"
   ]
  }
 ],
 "metadata": {
  "kernelspec": {
   "display_name": "Python 3 (ipykernel)",
   "language": "python",
   "name": "python3"
  },
  "language_info": {
   "codemirror_mode": {
    "name": "ipython",
    "version": 3
   },
   "file_extension": ".py",
   "mimetype": "text/x-python",
   "name": "python",
   "nbconvert_exporter": "python",
   "pygments_lexer": "ipython3",
   "version": "3.9.7"
  }
 },
 "nbformat": 4,
 "nbformat_minor": 5
}

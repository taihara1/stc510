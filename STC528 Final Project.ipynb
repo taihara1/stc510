{
 "cells": [
  {
   "cell_type": "markdown",
   "id": "d252ef68",
   "metadata": {},
   "source": [
    "# STC528: Final Data Visualization \n",
    "TIffany Aihara"
   ]
  },
  {
   "cell_type": "markdown",
   "id": "9bde8961",
   "metadata": {},
   "source": [
    "### **Executive Summary** \n",
    "\n",
    "Do candidates with certifications and licenses have an “equal” and “fair” chance in contrast to those with a “traditional” educational background? From affordability to refining skills to changing career paths, certification and license programs have introduced a non-traditional way of gaining experience and qualifications. \n",
    " \n",
    "Researchers studying hiring trends and patterns tend to recognize when job opportunities are “scarce,” the demand for candidates with higher educational attainment “becomes most appealing” (Gallagher, 2016). More so, with increasing tuition, many individuals speculate and debate whether higher education is “necessary.”  Technology and innovation in the business model have heavily influenced this debate. Technology has also enhanced the value of degrees and the credential landscape. In recent years, there has been more attention on other forms of “higher education” credentials as employers demand “a shorter form of learning” (Gallagher, 2016).  It is also an affordable option for people to access specific-industry experiences. \n",
    "\n",
    "From the dataset, an average of 30,000,000 individuals with a certificate or license work in the United States. With certification and licenses growing in “popularity,” it is important to illustrate whether certification/license candidates have a competitive chance among degree candidates. The second visualization goes into how roles and departments influence employment numbers for certificate/licenses employees and degree-holder employees. In higher position job titles, like managerial roles, a candidate with an educational background or a traditional route tends to be favored amongst incoming prospects. In low certificate/license employee occupational roles, like farm-related roles, tend to show no significant influence of certificate/licenses increasing employment levels. The last visualization analyzes income levels of certificate/license holders with individuals with an educational/traditional background. There are no significant differences in income levels for certification/licenses and higher education attainment. Therefore, the challenge for candidates with certification/license does not come with their employment status but rather the hiring process itself. So, what is preventing candidates with certifications/licenses from securing these roles?  \n",
    "\n",
    "For one, each company or organization measures experience differently. For associate or senior-level roles, it might be difficult for certificate/licensed candidates to \"compete\" if they do not have additional work-related experience. In contrast, hiring managers and leads should be more open to hiring candidates with a non-traditional educational background for entry-level or mid-level positions by including inclusive language like “certification/license in a related field\" or writing out specific criteria to be successful in a position. Despite not having a traditional route of formal education, certification programs provide other methods of verification of an indivdiual's skillset. Education is a broad term, but it is now progressively moving towards different forms of learning, besides attending universities and higher education. Lastly, representation in job attainment and processes are equally important in recruiting and appealing to more prospective candidates since it will encourage non-traditional pathways to obtain “dream” roles. "
   ]
  },
  {
   "cell_type": "code",
   "execution_count": 1,
   "id": "3b7c5c22",
   "metadata": {},
   "outputs": [],
   "source": [
    "#Importing Libraries for Data Visualization \n",
    "import pandas as pd\n",
    "import numpy as np\n",
    "import matplotlib.pyplot as plt\n",
    "import json\n",
    "import matplotlib\n",
    "import seaborn as sns"
   ]
  },
  {
   "cell_type": "markdown",
   "id": "a3de4d75",
   "metadata": {},
   "source": [
    "### \"Paint the Picture\" \n",
    "\n",
    "The following section explores how many individuals have either a certification or license in the United States who are participating in the labor market. The certification/license attainment dataset is from the United States Bureau of Labor Statistics. The employment status reveals the 2021 annual averages. "
   ]
  },
  {
   "cell_type": "code",
   "execution_count": 2,
   "id": "0493e733",
   "metadata": {
    "scrolled": true
   },
   "outputs": [
    {
     "data": {
      "text/plain": [
       "Text(0, 0.5, 'Total - in thousands')"
      ]
     },
     "execution_count": 2,
     "metadata": {},
     "output_type": "execute_result"
    },
    {
     "data": {
      "image/png": "[encoded data removed]",
      "text/plain": [
       "<Figure size 432x288 with 1 Axes>"
      ]
     },
     "metadata": {
      "needs_background": "light"
     },
     "output_type": "display_data"
    }
   ],
   "source": [
    "#Opening the file and creating a dataframe \n",
    "certificate_total = pd.read_excel(file)\n",
    "cert_df = pd.DataFrame(certificate_total)\n",
    "\n",
    "#In 2021\n",
    "employ_edu = pd.read_excel(file) \n",
    "employ_df = pd.DataFrame(employ_edu)\n",
    "\n",
    "#Edit the employment table\n",
    "new_employ_df = pd.DataFrame(employ_df.values[7:14])\n",
    "new_employ_df.columns =['Employment status', 'Less than a high school diploma', \n",
    "                       'High school graduate, no college', 'Total (some college or asso)', \n",
    "                       'Some college, no degree', 'Associate degree', 'Total (bach. or higher)', \n",
    "                       'Bachelor\\'s degree only', 'Advanced degree']\n",
    "\n",
    "#Edit table - column names & removing the blank values in the table \n",
    "new_total_cert_df = pd.DataFrame(cert_df.values[5:12])\n",
    "new_total_cert_df.columns =[\"Employment status\", 'Number of persons in thousands', 'Total - in thousands', \n",
    "                            'With certification but no license', 'With a license', \n",
    "                            'Without a certification or license', 'Percent distribution total', \n",
    "                            'Total - percent', 'Percent: With a certification but no license', 'Percent: With a license', \n",
    "                            'Percent: Without a certification or license']\n",
    "\n",
    "working = new_total_cert_df[2:5]\n",
    "sns.boxplot(y = working['Total - in thousands'])\n",
    "\n",
    "plt.title('Employment Status of those w/ Certification or License in 2021')\n",
    "plt.xlabel('Certification/License in Either Part/Full-time Status')\n",
    "plt.ylabel('Total - in thousands')"
   ]
  },
  {
   "cell_type": "code",
   "execution_count": 3,
   "id": "40473c45",
   "metadata": {},
   "outputs": [
    {
     "data": {
      "text/html": [
       "<div>\n",
       "<style scoped>\n",
       "    .dataframe tbody tr th:only-of-type {\n",
       "        vertical-align: middle;\n",
       "    }\n",
       "\n",
       "    .dataframe tbody tr th {\n",
       "        vertical-align: top;\n",
       "    }\n",
       "\n",
       "    .dataframe thead th {\n",
       "        text-align: right;\n",
       "    }\n",
       "</style>\n",
       "<table border=\"1\" class=\"dataframe\">\n",
       "  <thead>\n",
       "    <tr style=\"text-align: right;\">\n",
       "      <th></th>\n",
       "      <th>Employment status</th>\n",
       "      <th>Less than a high school diploma</th>\n",
       "      <th>High school graduate, no college</th>\n",
       "      <th>Total (some college or asso)</th>\n",
       "      <th>Some college, no degree</th>\n",
       "      <th>Associate degree</th>\n",
       "      <th>Total (bach. or higher)</th>\n",
       "      <th>Bachelor's degree only</th>\n",
       "      <th>Advanced degree</th>\n",
       "    </tr>\n",
       "  </thead>\n",
       "  <tbody>\n",
       "    <tr>\n",
       "      <th>3</th>\n",
       "      <td>Employed</td>\n",
       "      <td>8263</td>\n",
       "      <td>32821</td>\n",
       "      <td>33855</td>\n",
       "      <td>19247</td>\n",
       "      <td>14608</td>\n",
       "      <td>58966</td>\n",
       "      <td>36289</td>\n",
       "      <td>22677</td>\n",
       "    </tr>\n",
       "  </tbody>\n",
       "</table>\n",
       "</div>"
      ],
      "text/plain": [
       "  Employment status Less than a high school diploma  \\\n",
       "3          Employed                            8263   \n",
       "\n",
       "  High school graduate, no college Total (some college or asso)  \\\n",
       "3                            32821                        33855   \n",
       "\n",
       "  Some college, no degree Associate degree Total (bach. or higher)  \\\n",
       "3                   19247            14608                   58966   \n",
       "\n",
       "  Bachelor's degree only Advanced degree  \n",
       "3                  36289           22677  "
      ]
     },
     "execution_count": 3,
     "metadata": {},
     "output_type": "execute_result"
    }
   ],
   "source": [
    "#Showing only employed individuals's education attainment\n",
    "new_employ_df[new_employ_df['Employment status'] == 'Employed' ]"
   ]
  },
  {
   "cell_type": "markdown",
   "id": "8e2d7b76",
   "metadata": {},
   "source": [
    "**Analysis:** The box plot illustrates the number of working individuals with either a certification or a license. The purpose of the visualization is to show the number of individuals actively participating in the labor market. The minimum number of individuals who have a certificate or a license is 4784 (4,784,000), and those individuals are working part-time. The maximum number represents the total value of those employed with a certificate or license, regardless of their full-time status. The table below the graph provides a glimpse of the educational attainment status of employed individuals in 2021. Amongst the employed individuals, earning a Bachelor's degree or higher is what most employed individuals have. Although the number of college-attendees in the employed market is higher, certification and licenses still make up a large part of the labor market. "
   ]
  },
  {
   "cell_type": "markdown",
   "id": "274d56b7",
   "metadata": {},
   "source": [
    "### Introducing \"Non-Traditional\" Pathways\n",
    "\n",
    "This section will look at certificates and licenses further by analyzing employment numbers based on education and certification/license attainment. To determine which position to explore, I decided to look into the occupational field with the most total employed amongst certificate/license holders: \"management, professional, and related occupations.\" The comparisons and findings are below.  "
   ]
  },
  {
   "cell_type": "code",
   "execution_count": 4,
   "id": "996eee34",
   "metadata": {},
   "outputs": [],
   "source": [
    "#Education Attainment by detailed occupation (the dataset had multiple datasets in one excel file)\n",
    "edu_job = pd.read_excel(file)"
   ]
  },
  {
   "cell_type": "code",
   "execution_count": 5,
   "id": "878831c9",
   "metadata": {},
   "outputs": [],
   "source": [
    "#Create the two dataframes & rewrite column names\n",
    "edu_job_df = pd.DataFrame(edu_job)\n",
    "new_edu_job = pd.DataFrame(edu_job_df.values[3:834])\n",
    "new_edu_job.columns =['2021 National Employment Matrix Title', '2021 National Employment Matrix code', \n",
    "                     'Less than high school diploma', 'High school diploma or equivalent', 'Some college, no degree', \n",
    "                     'Associate\\'s degree', 'Bachelor\\'s degree', 'Master\\'s degree', 'Doctoral or professional degree']\n",
    "\n",
    "\n",
    "#certification and liscensing by occupation (total employed by percent dist)\n",
    "cert_job = pd.read_excel(file)\n",
    "cert_job_df = pd.DataFrame(cert_job)\n",
    "\n",
    "#Edit table format\n",
    "new_cert_job_df = pd.DataFrame(cert_job_df.values[7:36])\n",
    "new_cert_job_df.columns =['Occupation', 'Total employed', 'Total employed - percent dist', 'Total w/ a certification or license', \n",
    "                     'With a certification but no license', 'With a license', 'Without a certification or license']"
   ]
  },
  {
   "cell_type": "code",
   "execution_count": 6,
   "id": "caa79986",
   "metadata": {
    "scrolled": true
   },
   "outputs": [
    {
     "data": {
      "text/html": [
       "<div>\n",
       "<style scoped>\n",
       "    .dataframe tbody tr th:only-of-type {\n",
       "        vertical-align: middle;\n",
       "    }\n",
       "\n",
       "    .dataframe tbody tr th {\n",
       "        vertical-align: top;\n",
       "    }\n",
       "\n",
       "    .dataframe thead th {\n",
       "        text-align: right;\n",
       "    }\n",
       "</style>\n",
       "<table border=\"1\" class=\"dataframe\">\n",
       "  <thead>\n",
       "    <tr style=\"text-align: right;\">\n",
       "      <th></th>\n",
       "      <th>Occupation</th>\n",
       "      <th>Total employed</th>\n",
       "      <th>Total employed - percent dist</th>\n",
       "      <th>Total w/ a certification or license</th>\n",
       "      <th>With a certification but no license</th>\n",
       "      <th>With a license</th>\n",
       "      <th>Without a certification or license</th>\n",
       "    </tr>\n",
       "  </thead>\n",
       "  <tbody>\n",
       "    <tr>\n",
       "      <th>0</th>\n",
       "      <td>Management, professional, and related occupations</td>\n",
       "      <td>64744</td>\n",
       "      <td>100</td>\n",
       "      <td>35</td>\n",
       "      <td>3.2</td>\n",
       "      <td>31.8</td>\n",
       "      <td>65</td>\n",
       "    </tr>\n",
       "  </tbody>\n",
       "</table>\n",
       "</div>"
      ],
      "text/plain": [
       "                                          Occupation Total employed  \\\n",
       "0  Management, professional, and related occupations          64744   \n",
       "\n",
       "  Total employed - percent dist Total w/ a certification or license  \\\n",
       "0                           100                                  35   \n",
       "\n",
       "  With a certification but no license With a license  \\\n",
       "0                                 3.2           31.8   \n",
       "\n",
       "  Without a certification or license  \n",
       "0                                 65  "
      ]
     },
     "execution_count": 6,
     "metadata": {},
     "output_type": "execute_result"
    }
   ],
   "source": [
    "#Finding the highest total employed occupational role/department to explore further \n",
    "new_cert_job_df[new_cert_job_df['Total employed'] == new_cert_job_df['Total employed'].max()]"
   ]
  },
  {
   "cell_type": "code",
   "execution_count": 7,
   "id": "f1ef83c9",
   "metadata": {},
   "outputs": [],
   "source": [
    "#ONLY management \n",
    "\n",
    "#Filtering certification dataframe for manager/management/managing roles \n",
    "cert_manage = [] \n",
    "for i in range(len(new_cert_job_df['Occupation'])): \n",
    "    if 'manag' in new_cert_job_df['Occupation'][i].lower(): \n",
    "        cert_manage.append(new_cert_job_df.iloc[i])\n",
    "\n",
    "        \n",
    "#Filtering education attainment dataframe for manager/management/managing roles \n",
    "edu_manage = []\n",
    "for i in range(len(new_edu_job['2021 National Employment Matrix Title'])): \n",
    "    if 'manag' in new_edu_job['2021 National Employment Matrix Title'][i].lower(): \n",
    "        edu_manage.append(new_edu_job.iloc[i])"
   ]
  },
  {
   "cell_type": "code",
   "execution_count": 8,
   "id": "b409b3a9",
   "metadata": {},
   "outputs": [],
   "source": [
    "#creating the two dataframe (one for cert and the other edu attainment) to graaph & compare\n",
    "cert_manage_df = pd.DataFrame(cert_manage)\n",
    "edu_manage_df = pd.DataFrame(edu_manage)"
   ]
  },
  {
   "cell_type": "code",
   "execution_count": 9,
   "id": "85b9d748",
   "metadata": {},
   "outputs": [],
   "source": [
    "#Cleaning the dataset by making a new column that classifies the titles into categories \n",
    "def create_category(d: 'word'): \n",
    "    #Categorizes the dataframe by interests\n",
    "    title = ''\n",
    "    if 'all other' in d.lower(): \n",
    "        title = 'General'\n",
    "    elif 'general' in d.lower(): \n",
    "        title = 'General'\n",
    "    elif 'agent' in d.lower(): \n",
    "        title = 'Entertainment'\n",
    "    elif 'entertain' in d.lower(): \n",
    "        title = 'Entertainment' \n",
    "    elif 'admin' in d.lower(): \n",
    "        title = 'Administrative'\n",
    "    elif 'human' in d.lower(): \n",
    "        title = 'Administrative'\n",
    "    elif 'compensat' in d.lower(): \n",
    "        title = 'Administrative'\n",
    "    elif 'train' in d.lower(): \n",
    "        title = 'Administrative'\n",
    "    elif 'science' in d.lower(): \n",
    "        title = 'Science or Technology'\n",
    "    elif 'computer' in d.lower(): \n",
    "        title = 'Science or Technology'\n",
    "    elif 'health' in d.lower(): \n",
    "        title = 'Science or Technology'\n",
    "    elif 'engineer' in d.lower():\n",
    "         title = 'Science or Technology'\n",
    "    elif 'ranch' in d.lower(): \n",
    "        title = 'Agriculture'\n",
    "    elif 'food' in d.lower(): \n",
    "        title = 'Agriculture'\n",
    "    elif 'gambling manager' in d.lower(): \n",
    "        title = 'Hospitality'\n",
    "    elif 'fun' in d.lower(): \n",
    "        title = 'Hospitality'\n",
    "    elif 'logd' in d.lower(): \n",
    "        title = 'Hospitality'\n",
    "    elif 'management' in d.lower(): \n",
    "        title = 'Management' \n",
    "    elif 'community' in d.lower(): \n",
    "        title = 'Social'\n",
    "    elif 'relation' in d.lower(): \n",
    "        title = 'Social'\n",
    "    elif 'construct' in d.lower(): \n",
    "        title = 'Infrastructure'\n",
    "    elif 'storage' in d.lower(): \n",
    "        title = 'Infrastructure'\n",
    "    elif 'indust' in d.lower(): \n",
    "        title = 'Infrastructure' \n",
    "    else: \n",
    "        title = 'Finance/Business/Marketing'\n",
    "    return title"
   ]
  },
  {
   "cell_type": "code",
   "execution_count": 10,
   "id": "c915fe06",
   "metadata": {
    "scrolled": true
   },
   "outputs": [],
   "source": [
    "#Applying the function to the dataframe\n",
    "edu_manage_df['clean_cat'] = edu_manage_df['2021 National Employment Matrix Title'].apply(create_category)"
   ]
  },
  {
   "cell_type": "code",
   "execution_count": 11,
   "id": "b02a2123",
   "metadata": {
    "scrolled": false
   },
   "outputs": [
    {
     "data": {
      "text/plain": [
       "Text(0, 0.5, 'Percentage of Status')"
      ]
     },
     "execution_count": 11,
     "metadata": {},
     "output_type": "execute_result"
    },
    {
     "data": {
      "image/png": "[encoded data removed]",
      "text/plain": [
       "<Figure size 504x504 with 1 Axes>"
      ]
     },
     "metadata": {
      "needs_background": "light"
     },
     "output_type": "display_data"
    }
   ],
   "source": [
    "#Creating the graph for certificate/license in managerial roles\n",
    "cert_manage_df.plot(kind='bar',x='Occupation',y=['With a certification but no license', 'With a license', 'Without a certification or license'], \n",
    "                   stacked=True, figsize=(7,7))\n",
    "\n",
    "#---- LABELS -------\n",
    "plt.title('Certification/License Status in Management-related Roles in 2021')\n",
    "plt.xlabel('Role')\n",
    "plt.legend(loc='center left', bbox_to_anchor=(1, 0.5))\n",
    "plt.ylabel('Percentage of Status')"
   ]
  },
  {
   "cell_type": "code",
   "execution_count": 12,
   "id": "3a9be993",
   "metadata": {
    "scrolled": false
   },
   "outputs": [
    {
     "data": {
      "text/plain": [
       "Text(0, 0.5, 'Percentage of Status')"
      ]
     },
     "execution_count": 12,
     "metadata": {},
     "output_type": "execute_result"
    },
    {
     "data": {
      "image/png": "[encoded data removed]",
      "text/plain": [
       "<Figure size 432x288 with 1 Axes>"
      ]
     },
     "metadata": {
      "needs_background": "light"
     },
     "output_type": "display_data"
    }
   ],
   "source": [
    "#Graphing and exploring \"manage\"/\"managerial\" roles with education attainment\n",
    "manage = edu_manage_df[edu_manage_df['clean_cat'] == 'Finance/Business/Marketing']\n",
    "manage.plot(kind='bar',x= '2021 National Employment Matrix Title'\n",
    "                   ,y=['Doctoral or professional degree',  'Master\\'s degree','Bachelor\\'s degree', 'Associate\\'s degree',\n",
    "                                              'Some college, no degree', 'High school diploma or equivalent', \n",
    "                                             'Less than high school diploma'],\n",
    "                   stacked='True')\n",
    "\n",
    "#---- LABELS -------\n",
    "plt.title('Education Attainment in Management-related Roles in 2021')\n",
    "plt.xlabel('Role')\n",
    "plt.legend(loc='center left', bbox_to_anchor=(1, 0.5))\n",
    "plt.ylabel('Percentage of Status')"
   ]
  },
  {
   "cell_type": "markdown",
   "id": "92b06755",
   "metadata": {},
   "source": [
    "**Management, business, and financial operations occupation: certification column** Let's look at the column's values closer and compare it with the educational attainment below."
   ]
  },
  {
   "cell_type": "code",
   "execution_count": 13,
   "id": "6eaa3b58",
   "metadata": {},
   "outputs": [
    {
     "data": {
      "text/html": [
       "<div>\n",
       "<style scoped>\n",
       "    .dataframe tbody tr th:only-of-type {\n",
       "        vertical-align: middle;\n",
       "    }\n",
       "\n",
       "    .dataframe tbody tr th {\n",
       "        vertical-align: top;\n",
       "    }\n",
       "\n",
       "    .dataframe thead th {\n",
       "        text-align: right;\n",
       "    }\n",
       "</style>\n",
       "<table border=\"1\" class=\"dataframe\">\n",
       "  <thead>\n",
       "    <tr style=\"text-align: right;\">\n",
       "      <th></th>\n",
       "      <th>Occupation</th>\n",
       "      <th>Total employed</th>\n",
       "      <th>Total employed - percent dist</th>\n",
       "      <th>Total w/ a certification or license</th>\n",
       "      <th>With a certification but no license</th>\n",
       "      <th>With a license</th>\n",
       "      <th>Without a certification or license</th>\n",
       "    </tr>\n",
       "  </thead>\n",
       "  <tbody>\n",
       "    <tr>\n",
       "      <th>1</th>\n",
       "      <td>Management, business, and financial operations...</td>\n",
       "      <td>27864</td>\n",
       "      <td>100</td>\n",
       "      <td>21.4</td>\n",
       "      <td>2.9</td>\n",
       "      <td>18.4</td>\n",
       "      <td>78.6</td>\n",
       "    </tr>\n",
       "  </tbody>\n",
       "</table>\n",
       "</div>"
      ],
      "text/plain": [
       "                                          Occupation  Total employed  \\\n",
       "1  Management, business, and financial operations...           27864   \n",
       "\n",
       "   Total employed - percent dist  Total w/ a certification or license  \\\n",
       "1                            100                                 21.4   \n",
       "\n",
       "   With a certification but no license  With a license  \\\n",
       "1                                  2.9            18.4   \n",
       "\n",
       "   Without a certification or license  \n",
       "1                                78.6  "
      ]
     },
     "execution_count": 13,
     "metadata": {},
     "output_type": "execute_result"
    }
   ],
   "source": [
    "cert_manage_df[cert_manage_df['Occupation'] == 'Management, business, and financial operations occupations']"
   ]
  },
  {
   "cell_type": "code",
   "execution_count": 14,
   "id": "fa87e45d",
   "metadata": {},
   "outputs": [
    {
     "data": {
      "text/html": [
       "<div>\n",
       "<style scoped>\n",
       "    .dataframe tbody tr th:only-of-type {\n",
       "        vertical-align: middle;\n",
       "    }\n",
       "\n",
       "    .dataframe tbody tr th {\n",
       "        vertical-align: top;\n",
       "    }\n",
       "\n",
       "    .dataframe thead th {\n",
       "        text-align: right;\n",
       "    }\n",
       "</style>\n",
       "<table border=\"1\" class=\"dataframe\">\n",
       "  <thead>\n",
       "    <tr style=\"text-align: right;\">\n",
       "      <th></th>\n",
       "      <th>2021 National Employment Matrix Title</th>\n",
       "      <th>2021 National Employment Matrix code</th>\n",
       "      <th>Less than high school diploma</th>\n",
       "      <th>High school diploma or equivalent</th>\n",
       "      <th>Some college, no degree</th>\n",
       "      <th>Associate's degree</th>\n",
       "      <th>Bachelor's degree</th>\n",
       "      <th>Master's degree</th>\n",
       "      <th>Doctoral or professional degree</th>\n",
       "      <th>clean_cat</th>\n",
       "    </tr>\n",
       "  </thead>\n",
       "  <tbody>\n",
       "    <tr>\n",
       "      <th>10</th>\n",
       "      <td>Financial managers</td>\n",
       "      <td>11-3031</td>\n",
       "      <td>1.0</td>\n",
       "      <td>10.1</td>\n",
       "      <td>17.5</td>\n",
       "      <td>7.3</td>\n",
       "      <td>42.1</td>\n",
       "      <td>19.6</td>\n",
       "      <td>2.3</td>\n",
       "      <td>Finance/Business/Marketing</td>\n",
       "    </tr>\n",
       "  </tbody>\n",
       "</table>\n",
       "</div>"
      ],
      "text/plain": [
       "   2021 National Employment Matrix Title 2021 National Employment Matrix code  \\\n",
       "10                    Financial managers                              11-3031   \n",
       "\n",
       "    Less than high school diploma  High school diploma or equivalent  \\\n",
       "10                            1.0                               10.1   \n",
       "\n",
       "    Some college, no degree  Associate's degree  Bachelor's degree  \\\n",
       "10                     17.5                 7.3               42.1   \n",
       "\n",
       "    Master's degree  Doctoral or professional degree  \\\n",
       "10             19.6                              2.3   \n",
       "\n",
       "                     clean_cat  \n",
       "10  Finance/Business/Marketing  "
      ]
     },
     "execution_count": 14,
     "metadata": {},
     "output_type": "execute_result"
    }
   ],
   "source": [
    "manage[manage['2021 National Employment Matrix Title']== 'Financial managers']"
   ]
  },
  {
   "cell_type": "markdown",
   "id": "d20af51c",
   "metadata": {},
   "source": [
    "**Minimum Certification/License Employment** Now, let's examine the category with the least amount of employees with a license or certification to compare the findings from above. "
   ]
  },
  {
   "cell_type": "code",
   "execution_count": 15,
   "id": "e136f89b",
   "metadata": {},
   "outputs": [
    {
     "data": {
      "text/html": [
       "<div>\n",
       "<style scoped>\n",
       "    .dataframe tbody tr th:only-of-type {\n",
       "        vertical-align: middle;\n",
       "    }\n",
       "\n",
       "    .dataframe tbody tr th {\n",
       "        vertical-align: top;\n",
       "    }\n",
       "\n",
       "    .dataframe thead th {\n",
       "        text-align: right;\n",
       "    }\n",
       "</style>\n",
       "<table border=\"1\" class=\"dataframe\">\n",
       "  <thead>\n",
       "    <tr style=\"text-align: right;\">\n",
       "      <th></th>\n",
       "      <th>Occupation</th>\n",
       "      <th>Total employed</th>\n",
       "      <th>Total employed - percent dist</th>\n",
       "      <th>Total w/ a certification or license</th>\n",
       "      <th>With a certification but no license</th>\n",
       "      <th>With a license</th>\n",
       "      <th>Without a certification or license</th>\n",
       "    </tr>\n",
       "  </thead>\n",
       "  <tbody>\n",
       "    <tr>\n",
       "      <th>23</th>\n",
       "      <td>Farming, fishing, and forestry occupations</td>\n",
       "      <td>1061</td>\n",
       "      <td>100</td>\n",
       "      <td>8.2</td>\n",
       "      <td>0.6</td>\n",
       "      <td>7.6</td>\n",
       "      <td>91.8</td>\n",
       "    </tr>\n",
       "  </tbody>\n",
       "</table>\n",
       "</div>"
      ],
      "text/plain": [
       "                                    Occupation Total employed  \\\n",
       "23  Farming, fishing, and forestry occupations           1061   \n",
       "\n",
       "   Total employed - percent dist Total w/ a certification or license  \\\n",
       "23                           100                                 8.2   \n",
       "\n",
       "   With a certification but no license With a license  \\\n",
       "23                                 0.6            7.6   \n",
       "\n",
       "   Without a certification or license  \n",
       "23                               91.8  "
      ]
     },
     "execution_count": 15,
     "metadata": {},
     "output_type": "execute_result"
    }
   ],
   "source": [
    "#Finding the minimim certification/license employment\n",
    "new_cert_job_df[new_cert_job_df['Total employed'] == new_cert_job_df['Total employed'].min()]"
   ]
  },
  {
   "cell_type": "code",
   "execution_count": 16,
   "id": "489e80d3",
   "metadata": {},
   "outputs": [
    {
     "data": {
      "text/html": [
       "<div>\n",
       "<style scoped>\n",
       "    .dataframe tbody tr th:only-of-type {\n",
       "        vertical-align: middle;\n",
       "    }\n",
       "\n",
       "    .dataframe tbody tr th {\n",
       "        vertical-align: top;\n",
       "    }\n",
       "\n",
       "    .dataframe thead th {\n",
       "        text-align: right;\n",
       "    }\n",
       "</style>\n",
       "<table border=\"1\" class=\"dataframe\">\n",
       "  <thead>\n",
       "    <tr style=\"text-align: right;\">\n",
       "      <th></th>\n",
       "      <th>2021 National Employment Matrix Title</th>\n",
       "      <th>2021 National Employment Matrix code</th>\n",
       "      <th>Less than high school diploma</th>\n",
       "      <th>High school diploma or equivalent</th>\n",
       "      <th>Some college, no degree</th>\n",
       "      <th>Associate's degree</th>\n",
       "      <th>Bachelor's degree</th>\n",
       "      <th>Master's degree</th>\n",
       "      <th>Doctoral or professional degree</th>\n",
       "    </tr>\n",
       "  </thead>\n",
       "  <tbody>\n",
       "    <tr>\n",
       "      <th>17</th>\n",
       "      <td>Farmers, ranchers, and other agricultural mana...</td>\n",
       "      <td>11-9013</td>\n",
       "      <td>10.8</td>\n",
       "      <td>32.5</td>\n",
       "      <td>19.6</td>\n",
       "      <td>11.3</td>\n",
       "      <td>21.3</td>\n",
       "      <td>3.6</td>\n",
       "      <td>1.0</td>\n",
       "    </tr>\n",
       "    <tr>\n",
       "      <th>44</th>\n",
       "      <td>Farm labor contractors(1)</td>\n",
       "      <td>13-1074</td>\n",
       "      <td>1.0</td>\n",
       "      <td>8.6</td>\n",
       "      <td>17.6</td>\n",
       "      <td>8.1</td>\n",
       "      <td>45.7</td>\n",
       "      <td>17.0</td>\n",
       "      <td>2.0</td>\n",
       "    </tr>\n",
       "    <tr>\n",
       "      <th>258</th>\n",
       "      <td>Farm and home management educators(1)</td>\n",
       "      <td>25-9021</td>\n",
       "      <td>0.7</td>\n",
       "      <td>4.1</td>\n",
       "      <td>7.6</td>\n",
       "      <td>4.5</td>\n",
       "      <td>28.0</td>\n",
       "      <td>45.6</td>\n",
       "      <td>9.4</td>\n",
       "    </tr>\n",
       "    <tr>\n",
       "      <th>551</th>\n",
       "      <td>First-line supervisors of farming, fishing, an...</td>\n",
       "      <td>45-1011</td>\n",
       "      <td>35.3</td>\n",
       "      <td>28.9</td>\n",
       "      <td>15.6</td>\n",
       "      <td>5.1</td>\n",
       "      <td>11.2</td>\n",
       "      <td>3.1</td>\n",
       "      <td>0.7</td>\n",
       "    </tr>\n",
       "    <tr>\n",
       "      <th>556</th>\n",
       "      <td>Farmworkers and laborers, crop, nursery, and g...</td>\n",
       "      <td>45-2092</td>\n",
       "      <td>49.9</td>\n",
       "      <td>28.0</td>\n",
       "      <td>10.6</td>\n",
       "      <td>4.0</td>\n",
       "      <td>6.2</td>\n",
       "      <td>0.9</td>\n",
       "      <td>0.3</td>\n",
       "    </tr>\n",
       "    <tr>\n",
       "      <th>557</th>\n",
       "      <td>Farmworkers, farm, ranch, and aquacultural ani...</td>\n",
       "      <td>45-2093</td>\n",
       "      <td>49.9</td>\n",
       "      <td>28.0</td>\n",
       "      <td>10.6</td>\n",
       "      <td>4.0</td>\n",
       "      <td>6.2</td>\n",
       "      <td>0.9</td>\n",
       "      <td>0.3</td>\n",
       "    </tr>\n",
       "    <tr>\n",
       "      <th>642</th>\n",
       "      <td>Farm equipment mechanics and service technicia...</td>\n",
       "      <td>49-3041</td>\n",
       "      <td>12.0</td>\n",
       "      <td>47.3</td>\n",
       "      <td>23.4</td>\n",
       "      <td>13.1</td>\n",
       "      <td>3.3</td>\n",
       "      <td>0.6</td>\n",
       "      <td>0.2</td>\n",
       "    </tr>\n",
       "  </tbody>\n",
       "</table>\n",
       "</div>"
      ],
      "text/plain": [
       "                 2021 National Employment Matrix Title  \\\n",
       "17   Farmers, ranchers, and other agricultural mana...   \n",
       "44                           Farm labor contractors(1)   \n",
       "258              Farm and home management educators(1)   \n",
       "551  First-line supervisors of farming, fishing, an...   \n",
       "556  Farmworkers and laborers, crop, nursery, and g...   \n",
       "557  Farmworkers, farm, ranch, and aquacultural ani...   \n",
       "642  Farm equipment mechanics and service technicia...   \n",
       "\n",
       "    2021 National Employment Matrix code  Less than high school diploma  \\\n",
       "17                               11-9013                           10.8   \n",
       "44                               13-1074                            1.0   \n",
       "258                              25-9021                            0.7   \n",
       "551                              45-1011                           35.3   \n",
       "556                              45-2092                           49.9   \n",
       "557                              45-2093                           49.9   \n",
       "642                              49-3041                           12.0   \n",
       "\n",
       "     High school diploma or equivalent  Some college, no degree  \\\n",
       "17                                32.5                     19.6   \n",
       "44                                 8.6                     17.6   \n",
       "258                                4.1                      7.6   \n",
       "551                               28.9                     15.6   \n",
       "556                               28.0                     10.6   \n",
       "557                               28.0                     10.6   \n",
       "642                               47.3                     23.4   \n",
       "\n",
       "     Associate's degree  Bachelor's degree  Master's degree  \\\n",
       "17                 11.3               21.3              3.6   \n",
       "44                  8.1               45.7             17.0   \n",
       "258                 4.5               28.0             45.6   \n",
       "551                 5.1               11.2              3.1   \n",
       "556                 4.0                6.2              0.9   \n",
       "557                 4.0                6.2              0.9   \n",
       "642                13.1                3.3              0.6   \n",
       "\n",
       "     Doctoral or professional degree  \n",
       "17                               1.0  \n",
       "44                               2.0  \n",
       "258                              9.4  \n",
       "551                              0.7  \n",
       "556                              0.3  \n",
       "557                              0.3  \n",
       "642                              0.2  "
      ]
     },
     "execution_count": 16,
     "metadata": {},
     "output_type": "execute_result"
    }
   ],
   "source": [
    "farm = [] \n",
    "for i in range(len(new_edu_job['2021 National Employment Matrix Title'])): \n",
    "    if 'farm' in new_edu_job['2021 National Employment Matrix Title'][i].lower(): \n",
    "        farm.append(new_edu_job.iloc[i])\n",
    "farm_df = pd.DataFrame(farm)\n",
    "farm_df"
   ]
  },
  {
   "cell_type": "markdown",
   "id": "a9a7a96c",
   "metadata": {},
   "source": [
    "**Analysis:** In the management/business/marketing field, those without a certification or license are more likely not to get hired for managerial positions. Certifications (only) candidates make less than 10 percent of the total number employed. License (only) candidates have a higher likelihood of landing a managerial position, specifically management, profession, or related occupations. \n",
    " \n",
    "Let’s explore the “management, business, and financial operations” role/column. 21.4% of employed managers have a certificate or a license. The second graph is a stacked bar chart of the managerial roles in the business/mangagement/financial sector. Looking soley at the “financial mangers” role, the majority have a degree in higher education. 42.1% of employed mangagers in the field have a Bachelor’s degree, 19.6% have a Master’s degree, and 2.3% have a Doctoral or professional degree. It shows how higher “ranking” roles/positions still require those with a traditional background. Candidates with certificates or licenses may need additional experience to reach a \"higher\" or senior-level position. \n",
    "\n",
    "The last two tables shows which occupational category has the least certification/license employment, which was \"farming, fishing, and forestry occupations.\" Over 90% employed do not have a certification or license. The next table is the education attainment for those with \"farm\" in their occupation title. Most employees in this field between less than a high school degree, a high school graduate, and some college. Only a handful of job titles have larger number represented in higher degree attainment. Certification/licenses seem like they do not have an influence over the hiring process, especially for roles that may not require it or be \"relevant\" for a role. From this visualization and comparison of tables, shows how fields (occupation) also contribute to backgrounds and hiring practices. \n",
    "\n",
    "Regardless of the department, individuals with certificates or licenses still make up less than half of the employed status of the occupation/department, whereas those without a certificate/license have a large present in higher-positioning roles."
   ]
  },
  {
   "cell_type": "markdown",
   "id": "83cef5e4",
   "metadata": {},
   "source": [
    "### Addressing Income\n",
    "\n",
    "The following section analyzes the role income plays in employees who have a \"traditional\" (higher education) route and those with a \"non-traditional route\" (certification/license). The visualization shows the weekly median income by sex. "
   ]
  },
  {
   "cell_type": "code",
   "execution_count": 17,
   "id": "bed354b5",
   "metadata": {},
   "outputs": [],
   "source": [
    "#Median by age\n",
    "age_cert = pd.read_excel(file)\n",
    "age_cert_df = pd.DataFrame(age_cert)\n",
    "\n",
    "#Edit table format\n",
    "new_age_cert = pd.DataFrame(age_cert_df.values[7:26])\n",
    "edu_income = pd.DataFrame(age_cert_df.values[40:70])\n",
    "\n",
    "new_age_cert.columns = ['Characteristic', 'Full time wage and salary workers (in thousands)', \n",
    "                      'Total', 'Total median', 'Total w/ a certification but no license', \n",
    "                      'Total median with a license', 'Without a certification or license']"
   ]
  },
  {
   "cell_type": "code",
   "execution_count": 18,
   "id": "cff3cb67",
   "metadata": {},
   "outputs": [],
   "source": [
    "#when I ran new_age_cert, notices some of the rows are blank so i dropped it\n",
    "update_age_cert = new_age_cert.dropna()\n",
    "\n",
    "#Separating/Creating new tables for just age groups - certification/licenses\n",
    "all_ages_cert = update_age_cert[:7]\n",
    "men_cert = update_age_cert[10:12]\n",
    "wom_cert = update_age_cert[14:]\n",
    "\n",
    "#Separating/Creating new tables for just age groups - education \n",
    "update_edu_income = edu_income.dropna()\n",
    "\n",
    "#column updates\n",
    "update_edu_income.columns = ['Characteristic', 'Full time wage and salary workers (in thousands)', \n",
    "                      'Total', 'Total median', 'Total w/ a certification but no license', \n",
    "                      'Total median with a license', 'Without a certification or license']\n",
    "\n",
    "all_ages_edu = update_edu_income[:9]\n",
    "\n",
    "\n",
    "#Separating by sex \n",
    "men_edu = update_edu_income[9:18]\n",
    "wom_edu = update_edu_income[18:]"
   ]
  },
  {
   "cell_type": "code",
   "execution_count": 22,
   "id": "2870ebf4",
   "metadata": {},
   "outputs": [
    {
     "data": {
      "text/plain": [
       "<matplotlib.legend.Legend at 0x7fcb0e9607f0>"
      ]
     },
     "execution_count": 22,
     "metadata": {},
     "output_type": "execute_result"
    },
    {
     "data": {
      "image/png": "[encoded data removed]",
      "text/plain": [
       "<Figure size 1080x432 with 2 Axes>"
      ]
     },
     "metadata": {
      "needs_background": "light"
     },
     "output_type": "display_data"
    }
   ],
   "source": [
    "#Graphing the two certification v edu attainment \n",
    "fig, ax = plt.subplots(ncols=2, figsize=(15,6))\n",
    "\n",
    "men_edu.plot(x = 'Characteristic', y= ['Total median', 'Without a certification or license'], kind='bar', stacked=True, \n",
    "            ax=ax[0])\n",
    "ax[0].set_title('Men: Certification/License v Edu Attainment in 2021  ')\n",
    "ax[0].set_ylabel('Income')\n",
    "ax[0].legend(labels = ['Median income of Certificate/Liscense', 'Without a certificate/license'], loc = 'upper left')\n",
    "\n",
    "\n",
    "wom_edu.plot(x = 'Characteristic', y= ['Total median', 'Without a certification or license'], kind='bar', stacked=True, \n",
    "            ax=ax[1])\n",
    "ax[1].set_title('Women: Certification/License v Edu Attainment in 2021')\n",
    "ax[1].set_ylabel('Income')\n",
    "ax[1].legend(labels = ['Median income of Certificate/Liscense', 'Without a certificate/license'], loc = 'upper left')\n"
   ]
  },
  {
   "cell_type": "markdown",
   "id": "ee565aab",
   "metadata": {},
   "source": [
    "**Analysis:** The final visualization is a stacked bar chart that shows the weekly median income of individuals (25+ years old) with licenses/certifications and individuals with both. The graph on the left illustrates only male-identifying respondents. Men who earn a certificate or license earn an average of under 1,500 dollars a week, in comparison to those who do not have one, making a little over 1,000 dollars a week. On the other hand, women who have a certificate/license make a little over 1,000 dollars a week, in comparison to those who do not, making less than 1,000 dollars. Male certificate/license holders still earn about 500 dollars more than female employers. \n",
    " \n",
    "The total median represents the median weekly income of those with certificates or licenses. In the following bars after the age group, male and female employees have almost an equally distributed income weekly median for those with advanced degrees. Certificates and licenses help lower education statuses, less than a high school diploma, high school diploma, andsome college or associate degree, earn higher weekly median income, more so for male employees.  \n",
    " \n",
    "The total median income value also includes those with certification/license and their educational attainment. Despite employees obtaining more certification or licensing programs other than their degree, these graphs show that there is not a “exceedingly” high income difference for those with a degree in addition to certification. Rather than the income discrepency being about a “certification/license” status, it shows how gender pay gaps are still apparent in the labor market. "
   ]
  },
  {
   "cell_type": "markdown",
   "id": "d083712c",
   "metadata": {},
   "source": [
    "### Methodology & Reflection"
   ]
  },
  {
   "cell_type": "markdown",
   "id": "38c9cd01",
   "metadata": {},
   "source": [
    "The purpose of exploring this topic is to illustrate whether certification/license candidates have a competitive “chance” with degree candidates and, if so, does it affect job recruitment practices. It is important to establish and continue awareness of the alternative ways of pursuing education in a non-traditional way.  So opportunities and growth are readily available for all. \n",
    "\n",
    "To further analyze this topic, I introduced the context surrounding certification/license employees, how certificates/licenses are compared to educational attainment in specific occupational roles and determined whether certification/license status influenced income levels. \n",
    "\n",
    "All datasets come from the United States Bureau of Labor Statistics and the United States Census. Both have a category for employment with various datasets depending on an area of interest, such as employment, unemployment, education attainment, income, and certification/licenses. Some data frames only highlighted a few rows since most datasets did not have separate tables to show different characteristics. I cleaned and reorganized each data frame and table to make it more legible and “easy” to understand. \n",
    "\n",
    "The first visualization was a box plot. I created a box plot to illustrate the number of employed individuals with either a certificate or license. The purpose of the graph is to show how many people have these in the labor market. The graph represents all employment types, except for those who are unemployed. It is crucial to be aware of the population of the labor market who have other professional experiences to assess their “competitiveness” with the traditional pathway of education attainment. The second visualization compared two stacked bar graphs to illustrate the employed status based on experience backgrounds. To determine which occupational role to explore, I selected the department with the most employed people with certificates or licenses, which was management-related roles. The first bar graph looks at the percentage of employed individuals with a certificate, license, or without one in management-related positions. The second bar graph shows the educational attainment status of employed individuals in management-related roles. The number of mangement-related roles in the second dataset was longer than the certification/license dataset. Therefore, to condense it, the managerial roles were coded into different umbrella categories: Entertainment, General, Technology or Science, Administrative, Agriculture, Social, Hospitality, Business/Finance/Marketing, etc. (full list in cell 9). The analysis looks into the financial sector (bar/column only) to show that higher education still “dominates” managerial positions. The last visualization evaluates the median weekly income of those with certificates/licenses and those with educational attainment. One factor to highlight in this graph is the value of “total-median” (or those with certification). Respondents in the “total-median” data also have the corresponding educational attainment. Therefore, in higher education attainment, gaining a license or certificate may not have a significant weekly income difference from someone with a “lower” education background. \n",
    "\n",
    "These visualizations are relevant to the topic as they introduce new insight into whether certificates/licenses have “competitive value.” From these visualizations, candidates with certificates and licenses are underrepresented in higher positions and some occupational roles. Although this analysis does not explore or define experience level, HR managers need to write out the expectations of the role more than the “traditional” educational background. “Higher” positions, like managerial roles, are still heavily occupied by employees with a higher-education degree, limiting license/certificate candidates from applying. However, certificates/licenses help “boost” their candidacy if their educational attainment is low, but not so much if a candidate already has an advanced degree. \n",
    "\n",
    "I decided to explore certification programs and educational attainment in the United States for this visualization project. Certification, licenses, and non-degree programs are gaining more attention toward changing career paths, increasing one's experience, or choosing a more affordable option than higher degrees. \n",
    " \n",
    "This project was the first time to create a data visualization that explored a topic of my choice, selected relevant datasets, and presented the data in a meaningful way. The main challenge was finding the datasets. During that process, I had to consider where it came from, what the columns represented, whether the data represented the population, and how will I utilize it with other datasets. It was tough to determine whether another dataset would work well with the original dataset and the project’s purpose. \n",
    " \n",
    "Some limitations are measuring the level of technical aspect/degree (experience) in the analysis. For certification programs, there are always individuals who “take a bunch” but never have “hands-on experience” (Naresh & Rajalakshmi, 2020). While this may occur, those with certifications or licenses should exemplify and highlight projects to show recruiters their skillsets. Also, hiring practices are subjective since it depends on what the director/lead is looking for in a candidate. However, I believe representation in job attainment and processes are crucial in recruiting or appealing to more prospective candidates. It might encourage more individuals to apply for roles when they read or hear about people in aspiring positions having similar backgrounds."
   ]
  },
  {
   "cell_type": "markdown",
   "id": "4822785c",
   "metadata": {},
   "source": [
    "### References "
   ]
  },
  {
   "cell_type": "markdown",
   "id": "5575dfa4",
   "metadata": {},
   "source": [
    "Certification and licensing status of the civilian noninstitutional population 16 years and over by employment status, 2021 annual averages: https://www.bls.gov/cps/cpsaat49.htm. \n",
    "\n",
    "Certification and licensing status of the employed by occupation, 2021 annual averages: https://www.bls.gov/cps/cpsaat53.htm. \n",
    "\n",
    "Educational attainment for workers 25 years and older by detailed occupation: https://www.bls.gov/emp/tables/educational-attainment.htm. \n",
    "\n",
    "Gallagher, S. R. (2016). The future of university credentials: New developments at the intersection of higher education and hiring. Cambridge, MA: Harvard Education Press. 254 Pages.\n",
    "\n",
    "Median weekly earnings of full time wage and salary workers: https://www.bls.gov/cps/cpsaat54.htm. \n",
    "\n",
    "Naresh B, & Rajalakshmi M. (2020). A Conceptual Study on Employer Perception towards Hiring Employee with Online Degree/Certification. International Journal of Information and Communication Technology Education., 16(3), 1–14. https://doi.org/10.4018/IJICTE.2020070101. "
   ]
  }
 ],
 "metadata": {
  "kernelspec": {
   "display_name": "Python 3 (ipykernel)",
   "language": "python",
   "name": "python3"
  },
  "language_info": {
   "codemirror_mode": {
    "name": "ipython",
    "version": 3
   },
   "file_extension": ".py",
   "mimetype": "text/x-python",
   "name": "python",
   "nbconvert_exporter": "python",
   "pygments_lexer": "ipython3",
   "version": "3.9.7"
  }
 },
 "nbformat": 4,
 "nbformat_minor": 5
}
